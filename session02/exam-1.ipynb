{
 "cells": [
  {
   "attachments": {},
   "cell_type": "markdown",
   "metadata": {},
   "source": [
    "\n",
    "9 of 14 9 of 14 Items\n",
    "\n",
    "Question\n",
    "\n",
    "A hospital groups its patients into three main groups:\n",
    "\n",
    "    It has 242 that leave without beeing seen (LWBS)\n",
    "    It has 984 that are admitted\n",
    "    It has 3821 that are not admitted\n",
    "\n",
    "What is the smallest sample size needed so that the probability is at least 0.9 that at least one patient is LWBS? State your answer as an integer between 0 and 99.\n"
   ]
  },
  {
   "cell_type": "code",
   "execution_count": 2,
   "metadata": {},
   "outputs": [],
   "source": [
    "import sympy as sp\n",
    "from scipy.stats import hypergeom\n",
    "h = sp.symbols('h')"
   ]
  },
  {
   "cell_type": "code",
   "execution_count": 3,
   "metadata": {},
   "outputs": [
    {
     "data": {
      "text/plain": [
       "0.8878878776279938"
      ]
     },
     "execution_count": 3,
     "metadata": {},
     "output_type": "execute_result"
    }
   ],
   "source": [
    "from scipy.stats import poisson\n",
    "poisson.cdf(14, 10.5)"
   ]
  },
  {
   "attachments": {},
   "cell_type": "markdown",
   "metadata": {},
   "source": [
    "continuous distrubution session 13"
   ]
  },
  {
   "cell_type": "code",
   "execution_count": 3,
   "metadata": {},
   "outputs": [
    {
     "data": {
      "text/plain": [
       "0.49428197500707516"
      ]
     },
     "execution_count": 3,
     "metadata": {},
     "output_type": "execute_result"
    }
   ],
   "source": [
    "from scipy.stats import norm\n",
    "dis = norm(250, 19.77)\n",
    "dis.cdf(300) - dis.cdf(250)"
   ]
  },
  {
   "cell_type": "code",
   "execution_count": 1,
   "metadata": {},
   "outputs": [
    {
     "data": {
      "text/plain": [
       "0.005718024992924874"
      ]
     },
     "execution_count": 1,
     "metadata": {},
     "output_type": "execute_result"
    }
   ],
   "source": [
    "from scipy.stats import norm\n",
    "dis = norm(250, 19.77)\n",
    "dis.sf(300)"
   ]
  },
  {
   "cell_type": "code",
   "execution_count": 5,
   "metadata": {},
   "outputs": [
    {
     "data": {
      "text/plain": [
       "0.05579054856527854"
      ]
     },
     "execution_count": 5,
     "metadata": {},
     "output_type": "execute_result"
    }
   ],
   "source": [
    "from scipy.stats import norm\n",
    "dis = norm(250, 19.773)\n",
    "1 - (dis.cdf(300))**10"
   ]
  },
  {
   "attachments": {},
   "cell_type": "markdown",
   "metadata": {},
   "source": [
    "continuous distrubution session 14"
   ]
  },
  {
   "cell_type": "code",
   "execution_count": 11,
   "metadata": {},
   "outputs": [
    {
     "data": {
      "text/plain": [
       "0.7149434996833688"
      ]
     },
     "execution_count": 11,
     "metadata": {},
     "output_type": "execute_result"
    }
   ],
   "source": [
    "from scipy.stats import poisson\n",
    "poisson(6).cdf(4.4)"
   ]
  },
  {
   "cell_type": "code",
   "execution_count": 12,
   "metadata": {},
   "outputs": [
    {
     "name": "stdout",
     "output_type": "stream",
     "text": [
      "0.5332834866810869\n",
      "0.5417483039299931\n",
      "0.5502131211788992\n",
      "0.5586779384278053\n",
      "0.5671427556767115\n",
      "0.5756075729256176\n",
      "0.5840723901745237\n",
      "0.5925372074234299\n",
      "0.601002024672336\n",
      "0.6094668419212421\n",
      "0.6179316591701483\n",
      "0.6263964764190545\n",
      "0.6348612936679606\n",
      "0.6433261109168668\n",
      "0.6517909281657729\n",
      "0.660255745414679\n",
      "0.6687205626635851\n",
      "0.6771853799124914\n",
      "0.6856501971613975\n",
      "0.6941150144103035\n",
      "0.7025798316592097\n",
      "0.7110446489081158\n",
      "0.7195094661570219\n",
      "0.7279742834059282\n",
      "0.7364391006548343\n",
      "0.7449039179037404\n",
      "0.7533687351526466\n",
      "0.7618335524015527\n",
      "0.7702983696504588\n",
      "0.7787631868993651\n",
      "0.7872280041482712\n",
      "0.7956928213971772\n",
      "0.8041576386460834\n",
      "0.8126224558949895\n",
      "0.8210872731438957\n",
      "0.8295520903928019\n"
     ]
    }
   ],
   "source": [
    "import math \n",
    "for i in range(63, 99):\n",
    "    print(math.e**(-1/6)*(i/100))"
   ]
  }
 ],
 "metadata": {
  "kernelspec": {
   "display_name": "base",
   "language": "python",
   "name": "python3"
  },
  "language_info": {
   "codemirror_mode": {
    "name": "ipython",
    "version": 3
   },
   "file_extension": ".py",
   "mimetype": "text/x-python",
   "name": "python",
   "nbconvert_exporter": "python",
   "pygments_lexer": "ipython3",
   "version": "3.9.13"
  },
  "orig_nbformat": 4
 },
 "nbformat": 4,
 "nbformat_minor": 2
}
